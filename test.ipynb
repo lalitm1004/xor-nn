{
 "cells": [
  {
   "cell_type": "code",
   "execution_count": 64,
   "id": "eaf6a5a9",
   "metadata": {},
   "outputs": [],
   "source": [
    "import torch\n",
    "from typing import Tuple"
   ]
  },
  {
   "cell_type": "code",
   "execution_count": 66,
   "id": "0060a928",
   "metadata": {},
   "outputs": [],
   "source": [
    "class XORNet(torch.nn.Module):\n",
    "    def __init__(self) -> None:\n",
    "        super().__init__()\n",
    "        self.fc1 = torch.nn.Linear(2, 128)\n",
    "        self.fc2 = torch.nn.Linear(128, 1)\n",
    "        self.activation = torch.nn.Sigmoid()\n",
    "    \n",
    "    def forward(self, x: torch.Tensor) -> torch.Tensor:\n",
    "        x = self.activation(self.fc1(x))\n",
    "        x = self.activation(self.fc2(x))\n",
    "        return x"
   ]
  },
  {
   "cell_type": "code",
   "execution_count": 67,
   "id": "69cc43d5",
   "metadata": {},
   "outputs": [],
   "source": [
    "def train(model: XORNet, x: torch.Tensor, y: torch.Tensor, learn_rate:float = 0.1, epochs: int = 10_000) -> None:\n",
    "    criterion: torch.nn.Module = torch.nn.MSELoss()\n",
    "    optimizer: torch.optim.Optimizer = torch.optim.SGD(model.parameters(), lr=learn_rate)\n",
    "\n",
    "    for epoch in range(epochs):\n",
    "        outputs = model.forward(x)\n",
    "        loss = criterion.forward(outputs, y)\n",
    "\n",
    "        optimizer.zero_grad()\n",
    "        loss.backward()\n",
    "        optimizer.step()\n",
    "\n",
    "        if epoch % 1000 == 0:\n",
    "            print(f\"Epoch {epoch} | Loss {loss.item():.4f}\")"
   ]
  },
  {
   "cell_type": "code",
   "execution_count": 68,
   "id": "8403d3aa",
   "metadata": {},
   "outputs": [],
   "source": [
    "def evaluate(model: XORNet, X: torch.Tensor) -> Tuple[torch.Tensor, torch.Tensor]:\n",
    "    with torch.no_grad():\n",
    "        outputs = model.forward(X)\n",
    "        predictions = (outputs > 0.5).float()\n",
    "        return outputs, predictions"
   ]
  },
  {
   "cell_type": "code",
   "execution_count": 69,
   "id": "89fd8d84",
   "metadata": {},
   "outputs": [],
   "source": [
    "def main() -> None:\n",
    "    X = torch.tensor([\n",
    "        [0, 0],\n",
    "        [0, 1],\n",
    "        [1, 0],\n",
    "        [1, 1],\n",
    "    ], dtype=torch.float32)\n",
    "\n",
    "    y = torch.tensor([\n",
    "        [0],\n",
    "        [1],\n",
    "        [1],\n",
    "        [0],\n",
    "    ], dtype=torch.float32)\n",
    "\n",
    "    model = XORNet()\n",
    "    train(model, X, y)\n",
    "    outputs, predictions = evaluate(model, X)\n",
    "\n",
    "    print(\"\\nFinal Raw Outputs:\")\n",
    "    print(outputs)\n",
    "    print(\"Rounded Predictions:\")\n",
    "    print(predictions)"
   ]
  },
  {
   "cell_type": "code",
   "execution_count": 70,
   "id": "7d7bb040",
   "metadata": {},
   "outputs": [
    {
     "name": "stdout",
     "output_type": "stream",
     "text": [
      "Epoch 0 | Loss 0.2509\n",
      "Epoch 1000 | Loss 0.2464\n",
      "Epoch 2000 | Loss 0.2397\n",
      "Epoch 3000 | Loss 0.2224\n",
      "Epoch 4000 | Loss 0.1760\n",
      "Epoch 5000 | Loss 0.0981\n",
      "Epoch 6000 | Loss 0.0432\n",
      "Epoch 7000 | Loss 0.0213\n",
      "Epoch 8000 | Loss 0.0126\n",
      "Epoch 9000 | Loss 0.0084\n",
      "\n",
      "Final Raw Outputs:\n",
      "tensor([[0.0682],\n",
      "        [0.9227],\n",
      "        [0.9205],\n",
      "        [0.0873]])\n",
      "Rounded Predictions:\n",
      "tensor([[0.],\n",
      "        [1.],\n",
      "        [1.],\n",
      "        [0.]])\n"
     ]
    }
   ],
   "source": [
    "if __name__ == \"__main__\":\n",
    "    main()"
   ]
  }
 ],
 "metadata": {
  "kernelspec": {
   "display_name": ".venv",
   "language": "python",
   "name": "python3"
  },
  "language_info": {
   "codemirror_mode": {
    "name": "ipython",
    "version": 3
   },
   "file_extension": ".py",
   "mimetype": "text/x-python",
   "name": "python",
   "nbconvert_exporter": "python",
   "pygments_lexer": "ipython3",
   "version": "3.12.8"
  }
 },
 "nbformat": 4,
 "nbformat_minor": 5
}
